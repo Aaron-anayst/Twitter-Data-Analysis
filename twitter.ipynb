{
  "nbformat": 4,
  "nbformat_minor": 0,
  "metadata": {
    "colab": {
      "name": "twitter.ipynb",
      "provenance": [],
      "toc_visible": true,
      "authorship_tag": "ABX9TyOA2jpIC50i/aGFFQtHP+KC",
      "include_colab_link": true
    },
    "kernelspec": {
      "name": "python3",
      "display_name": "Python 3"
    },
    "language_info": {
      "name": "python"
    }
  },
  "cells": [
    {
      "cell_type": "markdown",
      "metadata": {
        "id": "view-in-github",
        "colab_type": "text"
      },
      "source": [
        "<a href=\"https://colab.research.google.com/github/Aaron-anayst/Twitter-Data-Analysis/blob/main/twitter.ipynb\" target=\"_parent\"><img src=\"https://colab.research.google.com/assets/colab-badge.svg\" alt=\"Open In Colab\"/></a>"
      ]
    },
    {
      "cell_type": "code",
      "execution_count": 2,
      "metadata": {
        "colab": {
          "base_uri": "https://localhost:8080/"
        },
        "id": "nNK3uGVWhv-R",
        "outputId": "2ad0ad90-72a1-49cf-84cd-4b24bc857640"
      },
      "outputs": [
        {
          "output_type": "stream",
          "name": "stdout",
          "text": [
            "Mounted at /content/drive\n"
          ]
        }
      ],
      "source": [
        "from google.colab import drive\n",
        "drive.mount('/content/drive')"
      ]
    },
    {
      "cell_type": "code",
      "source": [
        "!git clone https://github.com/Aaron-anayst/Twitter.git"
      ],
      "metadata": {
        "colab": {
          "base_uri": "https://localhost:8080/"
        },
        "id": "GvZeM7K9h_Hj",
        "outputId": "6e2f96c7-b6a8-4980-8bcf-23140f9d3b4c"
      },
      "execution_count": 4,
      "outputs": [
        {
          "output_type": "stream",
          "name": "stdout",
          "text": [
            "Cloning into 'Twitter'...\n",
            "remote: Enumerating objects: 132, done.\u001b[K\n",
            "remote: Total 132 (delta 0), reused 0 (delta 0), pack-reused 132\u001b[K\n",
            "Receiving objects: 100% (132/132), 43.13 MiB | 27.38 MiB/s, done.\n",
            "Resolving deltas: 100% (54/54), done.\n"
          ]
        }
      ]
    },
    {
      "cell_type": "code",
      "source": [
        "%cd /Twitter"
      ],
      "metadata": {
        "colab": {
          "base_uri": "https://localhost:8080/"
        },
        "id": "YrxGeVTxoRhz",
        "outputId": "c5d61416-e928-4cdd-fc11-9e03c0a83ae3"
      },
      "execution_count": 5,
      "outputs": [
        {
          "output_type": "stream",
          "name": "stdout",
          "text": [
            "/Twitter\n"
          ]
        }
      ]
    },
    {
      "cell_type": "code",
      "source": [
        "from tweepy import Stream\n",
        "from tweepy.streaming import StreamListener\n",
        "Lists_of_keywords_fin_tech="
      ],
      "metadata": {
        "id": "Q15Kx9v-n-fg"
      },
      "execution_count": 6,
      "outputs": []
    },
    {
      "cell_type": "code",
      "source": [
        "%cd .."
      ],
      "metadata": {
        "colab": {
          "base_uri": "https://localhost:8080/"
        },
        "id": "20-SpUjRoFcF",
        "outputId": "c5924703-2e14-4d9e-85ff-d5826c2d8d9f"
      },
      "execution_count": 1,
      "outputs": [
        {
          "output_type": "stream",
          "name": "stdout",
          "text": [
            "/\n"
          ]
        }
      ]
    },
    {
      "cell_type": "code",
      "source": [
        "https://github.com/Aaron-anayst/Twitter-Data-Analysis"
      ],
      "metadata": {
        "id": "tqt5bsr50u_J"
      },
      "execution_count": null,
      "outputs": []
    },
    {
      "cell_type": "code",
      "source": [
        "git remo"
      ],
      "metadata": {
        "id": "bv4VbFGC0zxm"
      },
      "execution_count": null,
      "outputs": []
    },
    {
      "cell_type": "code",
      "source": [
        "Lists_of_keywords_fin_tech="
      ],
      "metadata": {
        "id": "1f0wyAf_ot1i"
      },
      "execution_count": null,
      "outputs": []
    }
  ]
}